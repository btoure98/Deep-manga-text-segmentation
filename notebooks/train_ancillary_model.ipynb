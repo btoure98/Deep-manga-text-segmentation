{
  "nbformat": 4,
  "nbformat_minor": 0,
  "metadata": {
    "colab": {
      "name": "train ancillary model.ipynb",
      "provenance": [],
      "collapsed_sections": [],
      "machine_shape": "hm"
    },
    "kernelspec": {
      "name": "python3",
      "display_name": "Python 3"
    },
    "language_info": {
      "name": "python"
    },
    "accelerator": "GPU",
    "widgets": {
      "application/vnd.jupyter.widget-state+json": {
        "0cf5c1af6e2147d38fae7d7f6dec8fcd": {
          "model_module": "@jupyter-widgets/controls",
          "model_name": "HBoxModel",
          "model_module_version": "1.5.0",
          "state": {
            "_dom_classes": [],
            "_model_module": "@jupyter-widgets/controls",
            "_model_module_version": "1.5.0",
            "_model_name": "HBoxModel",
            "_view_count": null,
            "_view_module": "@jupyter-widgets/controls",
            "_view_module_version": "1.5.0",
            "_view_name": "HBoxView",
            "box_style": "",
            "children": [
              "IPY_MODEL_7cda852da9d845f581dc5b4106a3f568",
              "IPY_MODEL_6a7c83261cf24ca585215926c243e894",
              "IPY_MODEL_9f9634666114439bbf3565ae19adacb4"
            ],
            "layout": "IPY_MODEL_6cc5e7aacaca4b9caa54f4a267f33492"
          }
        },
        "7cda852da9d845f581dc5b4106a3f568": {
          "model_module": "@jupyter-widgets/controls",
          "model_name": "HTMLModel",
          "model_module_version": "1.5.0",
          "state": {
            "_dom_classes": [],
            "_model_module": "@jupyter-widgets/controls",
            "_model_module_version": "1.5.0",
            "_model_name": "HTMLModel",
            "_view_count": null,
            "_view_module": "@jupyter-widgets/controls",
            "_view_module_version": "1.5.0",
            "_view_name": "HTMLView",
            "description": "",
            "description_tooltip": null,
            "layout": "IPY_MODEL_a1dbc5b2418547c0952903a6300b19b1",
            "placeholder": "​",
            "style": "IPY_MODEL_188bf753ad1c4330bab67df4d703d580",
            "value": "100%"
          }
        },
        "6a7c83261cf24ca585215926c243e894": {
          "model_module": "@jupyter-widgets/controls",
          "model_name": "FloatProgressModel",
          "model_module_version": "1.5.0",
          "state": {
            "_dom_classes": [],
            "_model_module": "@jupyter-widgets/controls",
            "_model_module_version": "1.5.0",
            "_model_name": "FloatProgressModel",
            "_view_count": null,
            "_view_module": "@jupyter-widgets/controls",
            "_view_module_version": "1.5.0",
            "_view_name": "ProgressView",
            "bar_style": "success",
            "description": "",
            "description_tooltip": null,
            "layout": "IPY_MODEL_4397389e10364e8bb4c47291daaef03d",
            "max": 87306240,
            "min": 0,
            "orientation": "horizontal",
            "style": "IPY_MODEL_f80f898f8d914ebe9a2f66b37d86e71a",
            "value": 87306240
          }
        },
        "9f9634666114439bbf3565ae19adacb4": {
          "model_module": "@jupyter-widgets/controls",
          "model_name": "HTMLModel",
          "model_module_version": "1.5.0",
          "state": {
            "_dom_classes": [],
            "_model_module": "@jupyter-widgets/controls",
            "_model_module_version": "1.5.0",
            "_model_name": "HTMLModel",
            "_view_count": null,
            "_view_module": "@jupyter-widgets/controls",
            "_view_module_version": "1.5.0",
            "_view_name": "HTMLView",
            "description": "",
            "description_tooltip": null,
            "layout": "IPY_MODEL_52f89941a94f495b93e6507b80bdeef6",
            "placeholder": "​",
            "style": "IPY_MODEL_5d69778a4dc642ca9ddfc4abdec2aa52",
            "value": " 83.3M/83.3M [00:01&lt;00:00, 85.7MB/s]"
          }
        },
        "6cc5e7aacaca4b9caa54f4a267f33492": {
          "model_module": "@jupyter-widgets/base",
          "model_name": "LayoutModel",
          "model_module_version": "1.2.0",
          "state": {
            "_model_module": "@jupyter-widgets/base",
            "_model_module_version": "1.2.0",
            "_model_name": "LayoutModel",
            "_view_count": null,
            "_view_module": "@jupyter-widgets/base",
            "_view_module_version": "1.2.0",
            "_view_name": "LayoutView",
            "align_content": null,
            "align_items": null,
            "align_self": null,
            "border": null,
            "bottom": null,
            "display": null,
            "flex": null,
            "flex_flow": null,
            "grid_area": null,
            "grid_auto_columns": null,
            "grid_auto_flow": null,
            "grid_auto_rows": null,
            "grid_column": null,
            "grid_gap": null,
            "grid_row": null,
            "grid_template_areas": null,
            "grid_template_columns": null,
            "grid_template_rows": null,
            "height": null,
            "justify_content": null,
            "justify_items": null,
            "left": null,
            "margin": null,
            "max_height": null,
            "max_width": null,
            "min_height": null,
            "min_width": null,
            "object_fit": null,
            "object_position": null,
            "order": null,
            "overflow": null,
            "overflow_x": null,
            "overflow_y": null,
            "padding": null,
            "right": null,
            "top": null,
            "visibility": null,
            "width": null
          }
        },
        "a1dbc5b2418547c0952903a6300b19b1": {
          "model_module": "@jupyter-widgets/base",
          "model_name": "LayoutModel",
          "model_module_version": "1.2.0",
          "state": {
            "_model_module": "@jupyter-widgets/base",
            "_model_module_version": "1.2.0",
            "_model_name": "LayoutModel",
            "_view_count": null,
            "_view_module": "@jupyter-widgets/base",
            "_view_module_version": "1.2.0",
            "_view_name": "LayoutView",
            "align_content": null,
            "align_items": null,
            "align_self": null,
            "border": null,
            "bottom": null,
            "display": null,
            "flex": null,
            "flex_flow": null,
            "grid_area": null,
            "grid_auto_columns": null,
            "grid_auto_flow": null,
            "grid_auto_rows": null,
            "grid_column": null,
            "grid_gap": null,
            "grid_row": null,
            "grid_template_areas": null,
            "grid_template_columns": null,
            "grid_template_rows": null,
            "height": null,
            "justify_content": null,
            "justify_items": null,
            "left": null,
            "margin": null,
            "max_height": null,
            "max_width": null,
            "min_height": null,
            "min_width": null,
            "object_fit": null,
            "object_position": null,
            "order": null,
            "overflow": null,
            "overflow_x": null,
            "overflow_y": null,
            "padding": null,
            "right": null,
            "top": null,
            "visibility": null,
            "width": null
          }
        },
        "188bf753ad1c4330bab67df4d703d580": {
          "model_module": "@jupyter-widgets/controls",
          "model_name": "DescriptionStyleModel",
          "model_module_version": "1.5.0",
          "state": {
            "_model_module": "@jupyter-widgets/controls",
            "_model_module_version": "1.5.0",
            "_model_name": "DescriptionStyleModel",
            "_view_count": null,
            "_view_module": "@jupyter-widgets/base",
            "_view_module_version": "1.2.0",
            "_view_name": "StyleView",
            "description_width": ""
          }
        },
        "4397389e10364e8bb4c47291daaef03d": {
          "model_module": "@jupyter-widgets/base",
          "model_name": "LayoutModel",
          "model_module_version": "1.2.0",
          "state": {
            "_model_module": "@jupyter-widgets/base",
            "_model_module_version": "1.2.0",
            "_model_name": "LayoutModel",
            "_view_count": null,
            "_view_module": "@jupyter-widgets/base",
            "_view_module_version": "1.2.0",
            "_view_name": "LayoutView",
            "align_content": null,
            "align_items": null,
            "align_self": null,
            "border": null,
            "bottom": null,
            "display": null,
            "flex": null,
            "flex_flow": null,
            "grid_area": null,
            "grid_auto_columns": null,
            "grid_auto_flow": null,
            "grid_auto_rows": null,
            "grid_column": null,
            "grid_gap": null,
            "grid_row": null,
            "grid_template_areas": null,
            "grid_template_columns": null,
            "grid_template_rows": null,
            "height": null,
            "justify_content": null,
            "justify_items": null,
            "left": null,
            "margin": null,
            "max_height": null,
            "max_width": null,
            "min_height": null,
            "min_width": null,
            "object_fit": null,
            "object_position": null,
            "order": null,
            "overflow": null,
            "overflow_x": null,
            "overflow_y": null,
            "padding": null,
            "right": null,
            "top": null,
            "visibility": null,
            "width": null
          }
        },
        "f80f898f8d914ebe9a2f66b37d86e71a": {
          "model_module": "@jupyter-widgets/controls",
          "model_name": "ProgressStyleModel",
          "model_module_version": "1.5.0",
          "state": {
            "_model_module": "@jupyter-widgets/controls",
            "_model_module_version": "1.5.0",
            "_model_name": "ProgressStyleModel",
            "_view_count": null,
            "_view_module": "@jupyter-widgets/base",
            "_view_module_version": "1.2.0",
            "_view_name": "StyleView",
            "bar_color": null,
            "description_width": ""
          }
        },
        "52f89941a94f495b93e6507b80bdeef6": {
          "model_module": "@jupyter-widgets/base",
          "model_name": "LayoutModel",
          "model_module_version": "1.2.0",
          "state": {
            "_model_module": "@jupyter-widgets/base",
            "_model_module_version": "1.2.0",
            "_model_name": "LayoutModel",
            "_view_count": null,
            "_view_module": "@jupyter-widgets/base",
            "_view_module_version": "1.2.0",
            "_view_name": "LayoutView",
            "align_content": null,
            "align_items": null,
            "align_self": null,
            "border": null,
            "bottom": null,
            "display": null,
            "flex": null,
            "flex_flow": null,
            "grid_area": null,
            "grid_auto_columns": null,
            "grid_auto_flow": null,
            "grid_auto_rows": null,
            "grid_column": null,
            "grid_gap": null,
            "grid_row": null,
            "grid_template_areas": null,
            "grid_template_columns": null,
            "grid_template_rows": null,
            "height": null,
            "justify_content": null,
            "justify_items": null,
            "left": null,
            "margin": null,
            "max_height": null,
            "max_width": null,
            "min_height": null,
            "min_width": null,
            "object_fit": null,
            "object_position": null,
            "order": null,
            "overflow": null,
            "overflow_x": null,
            "overflow_y": null,
            "padding": null,
            "right": null,
            "top": null,
            "visibility": null,
            "width": null
          }
        },
        "5d69778a4dc642ca9ddfc4abdec2aa52": {
          "model_module": "@jupyter-widgets/controls",
          "model_name": "DescriptionStyleModel",
          "model_module_version": "1.5.0",
          "state": {
            "_model_module": "@jupyter-widgets/controls",
            "_model_module_version": "1.5.0",
            "_model_name": "DescriptionStyleModel",
            "_view_count": null,
            "_view_module": "@jupyter-widgets/base",
            "_view_module_version": "1.2.0",
            "_view_name": "StyleView",
            "description_width": ""
          }
        }
      }
    }
  },
  "cells": [
    {
      "cell_type": "markdown",
      "source": [
        "# **Checking runtime type**"
      ],
      "metadata": {
        "id": "k9REkVvYmUFS"
      }
    },
    {
      "cell_type": "code",
      "execution_count": null,
      "metadata": {
        "colab": {
          "base_uri": "https://localhost:8080/"
        },
        "id": "EL-Wn4eIgL9f",
        "outputId": "dc3037ea-8ff3-4b90-c5ee-a819d51e7a3a"
      },
      "outputs": [
        {
          "output_type": "stream",
          "name": "stdout",
          "text": [
            "Your runtime has 27.3 gigabytes of available RAM\n",
            "\n",
            "You are using a high-RAM runtime!\n"
          ]
        }
      ],
      "source": [
        "from psutil import virtual_memory\n",
        "ram_gb = virtual_memory().total / 1e9\n",
        "print('Your runtime has {:.1f} gigabytes of available RAM\\n'.format(ram_gb))\n",
        "\n",
        "if ram_gb < 20:\n",
        "  print('Not using a high-RAM runtime')\n",
        "else:\n",
        "  print('You are using a high-RAM runtime!')"
      ]
    },
    {
      "cell_type": "markdown",
      "source": [
        "# **Cloning repo**"
      ],
      "metadata": {
        "id": "K44kqg_pmiDv"
      }
    },
    {
      "cell_type": "code",
      "source": [
        "!git clone https://github.com/btoure98/Deep-manga-text-segmentation.git"
      ],
      "metadata": {
        "colab": {
          "base_uri": "https://localhost:8080/"
        },
        "id": "UqTQ7DlgiGrk",
        "outputId": "74cd4604-0894-4fb8-9cb6-087b0cbafd6f"
      },
      "execution_count": null,
      "outputs": [
        {
          "output_type": "stream",
          "name": "stdout",
          "text": [
            "fatal: destination path 'Deep-manga-text-segmentation' already exists and is not an empty directory.\n"
          ]
        }
      ]
    },
    {
      "cell_type": "code",
      "source": [
        "%cd Deep-manga-text-segmentation"
      ],
      "metadata": {
        "colab": {
          "base_uri": "https://localhost:8080/"
        },
        "id": "rOz26jrAihrt",
        "outputId": "0caf7ea8-2e28-4b62-95bd-f07fe4ed7257"
      },
      "execution_count": null,
      "outputs": [
        {
          "output_type": "stream",
          "name": "stdout",
          "text": [
            "/content/Deep-manga-text-segmentation\n"
          ]
        }
      ]
    },
    {
      "cell_type": "code",
      "source": [
        "!git pull"
      ],
      "metadata": {
        "colab": {
          "base_uri": "https://localhost:8080/"
        },
        "id": "IabzqoH4uQU3",
        "outputId": "53371bc1-b708-4ec8-d22b-efd390867191"
      },
      "execution_count": null,
      "outputs": [
        {
          "output_type": "stream",
          "name": "stdout",
          "text": [
            "Already up to date.\n"
          ]
        }
      ]
    },
    {
      "cell_type": "markdown",
      "source": [
        "**Mounting gdrive**"
      ],
      "metadata": {
        "id": "MzdlJT9cm10N"
      }
    },
    {
      "cell_type": "code",
      "source": [
        "from google.colab import drive\n",
        "drive.mount('/content/gdrive/')"
      ],
      "metadata": {
        "colab": {
          "base_uri": "https://localhost:8080/"
        },
        "id": "1EinAV2-nKDV",
        "outputId": "459d0c47-6a62-44ad-8a00-173bc49d52a6"
      },
      "execution_count": null,
      "outputs": [
        {
          "output_type": "stream",
          "name": "stdout",
          "text": [
            "Mounted at /content/gdrive/\n"
          ]
        }
      ]
    },
    {
      "cell_type": "markdown",
      "source": [
        "**Setup config**"
      ],
      "metadata": {
        "id": "THuYnk3Ymsa9"
      }
    },
    {
      "cell_type": "code",
      "source": [
        "images = \"../gdrive/MyDrive/final/full/images/\"\n",
        "masks = \"../gdrive/MyDrive/final/full/masks/\"\n",
        "bboxes = \"../gdrive/MyDrive/final/full/bboxes/\"\n",
        "test_images = \"../gdrive/MyDrive/final/full/test/images/\"\n",
        "test_masks = \"../gdrive/MyDrive/final/full/test/masks/\"\n",
        "test_boxes = \"../gdrive/MyDrive/final/full/test/boxes/\"\n",
        "models = \"../gdrive/MyDrive/models/\"\n",
        "model_name = \"ancillary_model.pth\"\n",
        "BATCH_SIZE = 4\n",
        "INIT_LR = 10e-4\n",
        "EPOCHS = 13\n",
        "ENCODER_PRETRAINED = True\n",
        "DECODER_PRETRAINED = True\n",
        "IMG_HEIGHT = 1024\n",
        "IMG_WIDTH = 1024\n",
        "WEIGHT_DECAY = 0\n"
      ],
      "metadata": {
        "id": "_J56wb7fmRyk"
      },
      "execution_count": null,
      "outputs": []
    },
    {
      "cell_type": "code",
      "source": [
        "with open(\"config.py\", \"w\") as f:\n",
        "  f.write(\"\\nmodel_name = '{}'\".format(model_name))\n",
        "  f.write(\"\\nimages = '{}'\".format(images))\n",
        "  f.write(\"\\nmasks = '{}'\".format(masks))\n",
        "  f.write(\"\\nbboxes = '{}'\".format(bboxes))\n",
        "  f.write(\"\\ntest_images = '{}'\".format(test_images))\n",
        "  f.write(\"\\ntest_masks = '{}'\".format(test_masks))\n",
        "  f.write(\"\\ntest_boxes = '{}'\".format(test_boxes))\n",
        "  f.write(\"\\nmodels = '{}'\".format(models))\n",
        "  f.write(\"\\nBATCH_SIZE = {}\".format(BATCH_SIZE))\n",
        "  f.write(\"\\nINIT_LR = {}\".format(INIT_LR))\n",
        "  f.write(\"\\nEPOCHS = {}\".format(EPOCHS))\n",
        "  f.write(\"\\nENCODER_PRETRAINED = {}\".format(ENCODER_PRETRAINED))\n",
        "  f.write(\"\\nDECODER_PRETRAINED = {}\".format(DECODER_PRETRAINED))\n",
        "  f.write(\"\\nIMG_HEIGHT = {}\".format(IMG_HEIGHT))\n",
        "  f.write(\"\\nIMG_WIDTH = {}\".format(IMG_WIDTH))\n",
        "  f.write(\"\\nWEIGHT_DECAY = {}\".format(WEIGHT_DECAY))"
      ],
      "metadata": {
        "id": "lBxPA7Q9jKbF"
      },
      "execution_count": null,
      "outputs": []
    },
    {
      "cell_type": "code",
      "source": [
        "! cat config.py"
      ],
      "metadata": {
        "colab": {
          "base_uri": "https://localhost:8080/"
        },
        "id": "fC7uSArmjrBo",
        "outputId": "fccfc994-3995-4eab-b221-ef20ae667f78"
      },
      "execution_count": null,
      "outputs": [
        {
          "output_type": "stream",
          "name": "stdout",
          "text": [
            "\n",
            "model_name = 'ancillary_model.pth'\n",
            "images = '../gdrive/MyDrive/final/full/images/'\n",
            "masks = '../gdrive/MyDrive/final/full/masks/'\n",
            "bboxes = '../gdrive/MyDrive/final/full/bboxes/'\n",
            "test_images = '../gdrive/MyDrive/final/full/test/images/'\n",
            "test_masks = '../gdrive/MyDrive/final/full/test/masks/'\n",
            "test_boxes = '../gdrive/MyDrive/final/full/test/boxes/'\n",
            "models = '../gdrive/MyDrive/models/'\n",
            "BATCH_SIZE = 4\n",
            "INIT_LR = 0.001\n",
            "EPOCHS = 13\n",
            "ENCODER_PRETRAINED = True\n",
            "DECODER_PRETRAINED = True\n",
            "IMG_HEIGHT = 1024\n",
            "IMG_WIDTH = 1024\n",
            "WEIGHT_DECAY = 0"
          ]
        }
      ]
    },
    {
      "cell_type": "markdown",
      "source": [
        "Dependencies install"
      ],
      "metadata": {
        "id": "c_KWmenvrVxt"
      }
    },
    {
      "cell_type": "code",
      "source": [
        "!pip3 install -r requirements.txt"
      ],
      "metadata": {
        "colab": {
          "base_uri": "https://localhost:8080/"
        },
        "id": "YynjrEy2ratm",
        "outputId": "5606da15-cc93-412f-e66c-0eb7b6f17857"
      },
      "execution_count": null,
      "outputs": [
        {
          "output_type": "stream",
          "name": "stdout",
          "text": [
            "Collecting segmentation-models-pytorch\n",
            "  Downloading segmentation_models_pytorch-0.2.1-py3-none-any.whl (88 kB)\n",
            "\u001b[?25l\r\u001b[K     |███▊                            | 10 kB 31.8 MB/s eta 0:00:01\r\u001b[K     |███████▍                        | 20 kB 8.6 MB/s eta 0:00:01\r\u001b[K     |███████████                     | 30 kB 7.5 MB/s eta 0:00:01\r\u001b[K     |██████████████▉                 | 40 kB 6.9 MB/s eta 0:00:01\r\u001b[K     |██████████████████▌             | 51 kB 3.3 MB/s eta 0:00:01\r\u001b[K     |██████████████████████▏         | 61 kB 3.9 MB/s eta 0:00:01\r\u001b[K     |██████████████████████████      | 71 kB 4.1 MB/s eta 0:00:01\r\u001b[K     |█████████████████████████████▋  | 81 kB 4.6 MB/s eta 0:00:01\r\u001b[K     |████████████████████████████████| 88 kB 3.4 MB/s \n",
            "\u001b[?25hRequirement already satisfied: torchvision>=0.5.0 in /usr/local/lib/python3.7/dist-packages (from segmentation-models-pytorch->-r requirements.txt (line 1)) (0.11.1+cu111)\n",
            "Collecting timm==0.4.12\n",
            "  Downloading timm-0.4.12-py3-none-any.whl (376 kB)\n",
            "\u001b[K     |████████████████████████████████| 376 kB 23.0 MB/s \n",
            "\u001b[?25hCollecting pretrainedmodels==0.7.4\n",
            "  Downloading pretrainedmodels-0.7.4.tar.gz (58 kB)\n",
            "\u001b[K     |████████████████████████████████| 58 kB 7.8 MB/s \n",
            "\u001b[?25hCollecting efficientnet-pytorch==0.6.3\n",
            "  Downloading efficientnet_pytorch-0.6.3.tar.gz (16 kB)\n",
            "Requirement already satisfied: torch in /usr/local/lib/python3.7/dist-packages (from efficientnet-pytorch==0.6.3->segmentation-models-pytorch->-r requirements.txt (line 1)) (1.10.0+cu111)\n",
            "Collecting munch\n",
            "  Downloading munch-2.5.0-py2.py3-none-any.whl (10 kB)\n",
            "Requirement already satisfied: tqdm in /usr/local/lib/python3.7/dist-packages (from pretrainedmodels==0.7.4->segmentation-models-pytorch->-r requirements.txt (line 1)) (4.63.0)\n",
            "Requirement already satisfied: typing-extensions in /usr/local/lib/python3.7/dist-packages (from torch->efficientnet-pytorch==0.6.3->segmentation-models-pytorch->-r requirements.txt (line 1)) (3.10.0.2)\n",
            "Requirement already satisfied: pillow!=8.3.0,>=5.3.0 in /usr/local/lib/python3.7/dist-packages (from torchvision>=0.5.0->segmentation-models-pytorch->-r requirements.txt (line 1)) (7.1.2)\n",
            "Requirement already satisfied: numpy in /usr/local/lib/python3.7/dist-packages (from torchvision>=0.5.0->segmentation-models-pytorch->-r requirements.txt (line 1)) (1.21.5)\n",
            "Requirement already satisfied: six in /usr/local/lib/python3.7/dist-packages (from munch->pretrainedmodels==0.7.4->segmentation-models-pytorch->-r requirements.txt (line 1)) (1.15.0)\n",
            "Building wheels for collected packages: efficientnet-pytorch, pretrainedmodels\n",
            "  Building wheel for efficientnet-pytorch (setup.py) ... \u001b[?25l\u001b[?25hdone\n",
            "  Created wheel for efficientnet-pytorch: filename=efficientnet_pytorch-0.6.3-py3-none-any.whl size=12421 sha256=1728a5911db450ac15f0d1e711d6a840714926db513f53c65c3dbe4caa6590a9\n",
            "  Stored in directory: /root/.cache/pip/wheels/90/6b/0c/f0ad36d00310e65390b0d4c9218ae6250ac579c92540c9097a\n",
            "  Building wheel for pretrainedmodels (setup.py) ... \u001b[?25l\u001b[?25hdone\n",
            "  Created wheel for pretrainedmodels: filename=pretrainedmodels-0.7.4-py3-none-any.whl size=60965 sha256=2faa26d302aca787beeb479fb9560297f4da6eb649f2107efd8ea96115e31f06\n",
            "  Stored in directory: /root/.cache/pip/wheels/ed/27/e8/9543d42de2740d3544db96aefef63bda3f2c1761b3334f4873\n",
            "Successfully built efficientnet-pytorch pretrainedmodels\n",
            "Installing collected packages: munch, timm, pretrainedmodels, efficientnet-pytorch, segmentation-models-pytorch\n",
            "Successfully installed efficientnet-pytorch-0.6.3 munch-2.5.0 pretrainedmodels-0.7.4 segmentation-models-pytorch-0.2.1 timm-0.4.12\n"
          ]
        }
      ]
    },
    {
      "cell_type": "markdown",
      "source": [
        "**Training**"
      ],
      "metadata": {
        "id": "3DH3G6OCrHMA"
      }
    },
    {
      "cell_type": "markdown",
      "source": [
        "batch size 4 and lr 10e-4 and img size 1024"
      ],
      "metadata": {
        "id": "qO9QogaN2xK6"
      }
    },
    {
      "cell_type": "code",
      "source": [
        "%run \"train_ancillary.py\""
      ],
      "metadata": {
        "colab": {
          "base_uri": "https://localhost:8080/",
          "height": 746,
          "referenced_widgets": [
            "0cf5c1af6e2147d38fae7d7f6dec8fcd",
            "7cda852da9d845f581dc5b4106a3f568",
            "6a7c83261cf24ca585215926c243e894",
            "9f9634666114439bbf3565ae19adacb4",
            "6cc5e7aacaca4b9caa54f4a267f33492",
            "a1dbc5b2418547c0952903a6300b19b1",
            "188bf753ad1c4330bab67df4d703d580",
            "4397389e10364e8bb4c47291daaef03d",
            "f80f898f8d914ebe9a2f66b37d86e71a",
            "52f89941a94f495b93e6507b80bdeef6",
            "5d69778a4dc642ca9ddfc4abdec2aa52"
          ]
        },
        "id": "6HETbZnG222E",
        "outputId": "144972f4-4f71-430b-d426-520244b2f140"
      },
      "execution_count": null,
      "outputs": [
        {
          "output_type": "stream",
          "name": "stderr",
          "text": [
            "Downloading: \"https://download.pytorch.org/models/resnet34-333f7ec4.pth\" to /root/.cache/torch/hub/checkpoints/resnet34-333f7ec4.pth\n"
          ]
        },
        {
          "output_type": "display_data",
          "data": {
            "text/plain": [
              "  0%|          | 0.00/83.3M [00:00<?, ?B/s]"
            ],
            "application/vnd.jupyter.widget-view+json": {
              "version_major": 2,
              "version_minor": 0,
              "model_id": "0cf5c1af6e2147d38fae7d7f6dec8fcd"
            }
          },
          "metadata": {}
        },
        {
          "output_type": "stream",
          "name": "stdout",
          "text": [
            "Model saved!\n",
            "Epoch: 1 - Loss: 0.080676 - Validation: 0.029538\n",
            "Model saved!\n",
            "Epoch: 2 - Loss: 0.020749 - Validation: 0.021168\n",
            "Model saved!\n",
            "Epoch: 3 - Loss: 0.014975 - Validation: 0.020237\n",
            "Epoch: 4 - Loss: 0.012741 - Validation: 0.020960\n",
            "Model saved!\n",
            "Epoch: 5 - Loss: 0.011688 - Validation: 0.017088\n",
            "Model saved!\n",
            "Epoch: 6 - Loss: 0.010900 - Validation: 0.016268\n",
            "Model saved!\n",
            "Epoch: 7 - Loss: 0.010360 - Validation: 0.015201\n",
            "Model saved!\n",
            "Epoch: 8 - Loss: 0.009859 - Validation: 0.014838\n",
            "Epoch: 9 - Loss: 0.009811 - Validation: 0.015070\n",
            "Epoch: 10 - Loss: 0.009272 - Validation: 0.015111\n",
            "Epoch: 11 - Loss: 0.009091 - Validation: 0.015120\n",
            "Epoch: 12 - Loss: 0.009323 - Validation: 0.015448\n",
            "Model saved!\n",
            "Epoch: 13 - Loss: 0.008871 - Validation: 0.013771\n"
          ]
        },
        {
          "output_type": "display_data",
          "data": {
            "text/plain": [
              "<Figure size 432x288 with 1 Axes>"
            ],
            "image/png": "[encoded data removed]"
          },
          "metadata": {
            "needs_background": "light"
          }
        },
        {
          "output_type": "display_data",
          "data": {
            "text/plain": [
              "<Figure size 432x288 with 0 Axes>"
            ]
          },
          "metadata": {}
        }
      ]
    },
    {
      "cell_type": "markdown",
      "source": [
        ""
      ],
      "metadata": {
        "id": "9l2aBdDY8ZXV"
      }
    },
    {
      "cell_type": "code",
      "source": [
        ""
      ],
      "metadata": {
        "id": "QjUdtrdKZOHN"
      },
      "execution_count": null,
      "outputs": []
    }
  ]
}