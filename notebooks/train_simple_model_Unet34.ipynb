{
  "nbformat": 4,
  "nbformat_minor": 0,
  "metadata": {
    "colab": {
      "name": "train simple model - Unet34.ipynb",
      "provenance": [],
      "collapsed_sections": [],
      "machine_shape": "hm"
    },
    "kernelspec": {
      "name": "python3",
      "display_name": "Python 3"
    },
    "language_info": {
      "name": "python"
    },
    "accelerator": "GPU",
    "widgets": {
      "application/vnd.jupyter.widget-state+json": {
        "94f882031ce448bcb0f79c1dac6de3b5": {
          "model_module": "@jupyter-widgets/controls",
          "model_name": "HBoxModel",
          "model_module_version": "1.5.0",
          "state": {
            "_dom_classes": [],
            "_model_module": "@jupyter-widgets/controls",
            "_model_module_version": "1.5.0",
            "_model_name": "HBoxModel",
            "_view_count": null,
            "_view_module": "@jupyter-widgets/controls",
            "_view_module_version": "1.5.0",
            "_view_name": "HBoxView",
            "box_style": "",
            "children": [
              "IPY_MODEL_366a9d2704e74222a926930e2b109d59",
              "IPY_MODEL_b1122cf1210a476da2c7b3042bf8bd33",
              "IPY_MODEL_78f69d4f7867400889e21e21d27fde2f"
            ],
            "layout": "IPY_MODEL_5d91dbec8cdc4ea3ae253171694612f5"
          }
        },
        "366a9d2704e74222a926930e2b109d59": {
          "model_module": "@jupyter-widgets/controls",
          "model_name": "HTMLModel",
          "model_module_version": "1.5.0",
          "state": {
            "_dom_classes": [],
            "_model_module": "@jupyter-widgets/controls",
            "_model_module_version": "1.5.0",
            "_model_name": "HTMLModel",
            "_view_count": null,
            "_view_module": "@jupyter-widgets/controls",
            "_view_module_version": "1.5.0",
            "_view_name": "HTMLView",
            "description": "",
            "description_tooltip": null,
            "layout": "IPY_MODEL_66d7539ee11244b3a904dd9cd23544a1",
            "placeholder": "​",
            "style": "IPY_MODEL_1e4c13a5378c42b2a16b51da667a9489",
            "value": "100%"
          }
        },
        "b1122cf1210a476da2c7b3042bf8bd33": {
          "model_module": "@jupyter-widgets/controls",
          "model_name": "FloatProgressModel",
          "model_module_version": "1.5.0",
          "state": {
            "_dom_classes": [],
            "_model_module": "@jupyter-widgets/controls",
            "_model_module_version": "1.5.0",
            "_model_name": "FloatProgressModel",
            "_view_count": null,
            "_view_module": "@jupyter-widgets/controls",
            "_view_module_version": "1.5.0",
            "_view_name": "ProgressView",
            "bar_style": "success",
            "description": "",
            "description_tooltip": null,
            "layout": "IPY_MODEL_eb5ea09b2973492fb442932a7dbc244e",
            "max": 87306240,
            "min": 0,
            "orientation": "horizontal",
            "style": "IPY_MODEL_4465826813ee40edb2e714e80c4fab78",
            "value": 87306240
          }
        },
        "78f69d4f7867400889e21e21d27fde2f": {
          "model_module": "@jupyter-widgets/controls",
          "model_name": "HTMLModel",
          "model_module_version": "1.5.0",
          "state": {
            "_dom_classes": [],
            "_model_module": "@jupyter-widgets/controls",
            "_model_module_version": "1.5.0",
            "_model_name": "HTMLModel",
            "_view_count": null,
            "_view_module": "@jupyter-widgets/controls",
            "_view_module_version": "1.5.0",
            "_view_name": "HTMLView",
            "description": "",
            "description_tooltip": null,
            "layout": "IPY_MODEL_57433c9db7e6466d945ab789b0233104",
            "placeholder": "​",
            "style": "IPY_MODEL_b12a09ffa06842bba675b0c28cbfeca1",
            "value": " 83.3M/83.3M [00:01&lt;00:00, 74.5MB/s]"
          }
        },
        "5d91dbec8cdc4ea3ae253171694612f5": {
          "model_module": "@jupyter-widgets/base",
          "model_name": "LayoutModel",
          "model_module_version": "1.2.0",
          "state": {
            "_model_module": "@jupyter-widgets/base",
            "_model_module_version": "1.2.0",
            "_model_name": "LayoutModel",
            "_view_count": null,
            "_view_module": "@jupyter-widgets/base",
            "_view_module_version": "1.2.0",
            "_view_name": "LayoutView",
            "align_content": null,
            "align_items": null,
            "align_self": null,
            "border": null,
            "bottom": null,
            "display": null,
            "flex": null,
            "flex_flow": null,
            "grid_area": null,
            "grid_auto_columns": null,
            "grid_auto_flow": null,
            "grid_auto_rows": null,
            "grid_column": null,
            "grid_gap": null,
            "grid_row": null,
            "grid_template_areas": null,
            "grid_template_columns": null,
            "grid_template_rows": null,
            "height": null,
            "justify_content": null,
            "justify_items": null,
            "left": null,
            "margin": null,
            "max_height": null,
            "max_width": null,
            "min_height": null,
            "min_width": null,
            "object_fit": null,
            "object_position": null,
            "order": null,
            "overflow": null,
            "overflow_x": null,
            "overflow_y": null,
            "padding": null,
            "right": null,
            "top": null,
            "visibility": null,
            "width": null
          }
        },
        "66d7539ee11244b3a904dd9cd23544a1": {
          "model_module": "@jupyter-widgets/base",
          "model_name": "LayoutModel",
          "model_module_version": "1.2.0",
          "state": {
            "_model_module": "@jupyter-widgets/base",
            "_model_module_version": "1.2.0",
            "_model_name": "LayoutModel",
            "_view_count": null,
            "_view_module": "@jupyter-widgets/base",
            "_view_module_version": "1.2.0",
            "_view_name": "LayoutView",
            "align_content": null,
            "align_items": null,
            "align_self": null,
            "border": null,
            "bottom": null,
            "display": null,
            "flex": null,
            "flex_flow": null,
            "grid_area": null,
            "grid_auto_columns": null,
            "grid_auto_flow": null,
            "grid_auto_rows": null,
            "grid_column": null,
            "grid_gap": null,
            "grid_row": null,
            "grid_template_areas": null,
            "grid_template_columns": null,
            "grid_template_rows": null,
            "height": null,
            "justify_content": null,
            "justify_items": null,
            "left": null,
            "margin": null,
            "max_height": null,
            "max_width": null,
            "min_height": null,
            "min_width": null,
            "object_fit": null,
            "object_position": null,
            "order": null,
            "overflow": null,
            "overflow_x": null,
            "overflow_y": null,
            "padding": null,
            "right": null,
            "top": null,
            "visibility": null,
            "width": null
          }
        },
        "1e4c13a5378c42b2a16b51da667a9489": {
          "model_module": "@jupyter-widgets/controls",
          "model_name": "DescriptionStyleModel",
          "model_module_version": "1.5.0",
          "state": {
            "_model_module": "@jupyter-widgets/controls",
            "_model_module_version": "1.5.0",
            "_model_name": "DescriptionStyleModel",
            "_view_count": null,
            "_view_module": "@jupyter-widgets/base",
            "_view_module_version": "1.2.0",
            "_view_name": "StyleView",
            "description_width": ""
          }
        },
        "eb5ea09b2973492fb442932a7dbc244e": {
          "model_module": "@jupyter-widgets/base",
          "model_name": "LayoutModel",
          "model_module_version": "1.2.0",
          "state": {
            "_model_module": "@jupyter-widgets/base",
            "_model_module_version": "1.2.0",
            "_model_name": "LayoutModel",
            "_view_count": null,
            "_view_module": "@jupyter-widgets/base",
            "_view_module_version": "1.2.0",
            "_view_name": "LayoutView",
            "align_content": null,
            "align_items": null,
            "align_self": null,
            "border": null,
            "bottom": null,
            "display": null,
            "flex": null,
            "flex_flow": null,
            "grid_area": null,
            "grid_auto_columns": null,
            "grid_auto_flow": null,
            "grid_auto_rows": null,
            "grid_column": null,
            "grid_gap": null,
            "grid_row": null,
            "grid_template_areas": null,
            "grid_template_columns": null,
            "grid_template_rows": null,
            "height": null,
            "justify_content": null,
            "justify_items": null,
            "left": null,
            "margin": null,
            "max_height": null,
            "max_width": null,
            "min_height": null,
            "min_width": null,
            "object_fit": null,
            "object_position": null,
            "order": null,
            "overflow": null,
            "overflow_x": null,
            "overflow_y": null,
            "padding": null,
            "right": null,
            "top": null,
            "visibility": null,
            "width": null
          }
        },
        "4465826813ee40edb2e714e80c4fab78": {
          "model_module": "@jupyter-widgets/controls",
          "model_name": "ProgressStyleModel",
          "model_module_version": "1.5.0",
          "state": {
            "_model_module": "@jupyter-widgets/controls",
            "_model_module_version": "1.5.0",
            "_model_name": "ProgressStyleModel",
            "_view_count": null,
            "_view_module": "@jupyter-widgets/base",
            "_view_module_version": "1.2.0",
            "_view_name": "StyleView",
            "bar_color": null,
            "description_width": ""
          }
        },
        "57433c9db7e6466d945ab789b0233104": {
          "model_module": "@jupyter-widgets/base",
          "model_name": "LayoutModel",
          "model_module_version": "1.2.0",
          "state": {
            "_model_module": "@jupyter-widgets/base",
            "_model_module_version": "1.2.0",
            "_model_name": "LayoutModel",
            "_view_count": null,
            "_view_module": "@jupyter-widgets/base",
            "_view_module_version": "1.2.0",
            "_view_name": "LayoutView",
            "align_content": null,
            "align_items": null,
            "align_self": null,
            "border": null,
            "bottom": null,
            "display": null,
            "flex": null,
            "flex_flow": null,
            "grid_area": null,
            "grid_auto_columns": null,
            "grid_auto_flow": null,
            "grid_auto_rows": null,
            "grid_column": null,
            "grid_gap": null,
            "grid_row": null,
            "grid_template_areas": null,
            "grid_template_columns": null,
            "grid_template_rows": null,
            "height": null,
            "justify_content": null,
            "justify_items": null,
            "left": null,
            "margin": null,
            "max_height": null,
            "max_width": null,
            "min_height": null,
            "min_width": null,
            "object_fit": null,
            "object_position": null,
            "order": null,
            "overflow": null,
            "overflow_x": null,
            "overflow_y": null,
            "padding": null,
            "right": null,
            "top": null,
            "visibility": null,
            "width": null
          }
        },
        "b12a09ffa06842bba675b0c28cbfeca1": {
          "model_module": "@jupyter-widgets/controls",
          "model_name": "DescriptionStyleModel",
          "model_module_version": "1.5.0",
          "state": {
            "_model_module": "@jupyter-widgets/controls",
            "_model_module_version": "1.5.0",
            "_model_name": "DescriptionStyleModel",
            "_view_count": null,
            "_view_module": "@jupyter-widgets/base",
            "_view_module_version": "1.2.0",
            "_view_name": "StyleView",
            "description_width": ""
          }
        }
      }
    }
  },
  "cells": [
    {
      "cell_type": "markdown",
      "source": [
        "# **Checking runtime type**"
      ],
      "metadata": {
        "id": "k9REkVvYmUFS"
      }
    },
    {
      "cell_type": "code",
      "execution_count": null,
      "metadata": {
        "colab": {
          "base_uri": "https://localhost:8080/"
        },
        "id": "EL-Wn4eIgL9f",
        "outputId": "2412adbb-f15f-490f-ff87-dccc95dcf854"
      },
      "outputs": [
        {
          "output_type": "stream",
          "name": "stdout",
          "text": [
            "Your runtime has 27.3 gigabytes of available RAM\n",
            "\n",
            "You are using a high-RAM runtime!\n"
          ]
        }
      ],
      "source": [
        "from psutil import virtual_memory\n",
        "ram_gb = virtual_memory().total / 1e9\n",
        "print('Your runtime has {:.1f} gigabytes of available RAM\\n'.format(ram_gb))\n",
        "\n",
        "if ram_gb < 20:\n",
        "  print('Not using a high-RAM runtime')\n",
        "else:\n",
        "  print('You are using a high-RAM runtime!')"
      ]
    },
    {
      "cell_type": "markdown",
      "source": [
        "# **Cloning repo**"
      ],
      "metadata": {
        "id": "K44kqg_pmiDv"
      }
    },
    {
      "cell_type": "code",
      "source": [
        "!git clone https://github.com/btoure98/Deep-manga-text-segmentation.git"
      ],
      "metadata": {
        "colab": {
          "base_uri": "https://localhost:8080/"
        },
        "id": "UqTQ7DlgiGrk",
        "outputId": "0b86c3b5-a864-4be4-d561-e5ad59c5727c"
      },
      "execution_count": null,
      "outputs": [
        {
          "output_type": "stream",
          "name": "stdout",
          "text": [
            "fatal: destination path 'Deep-manga-text-segmentation' already exists and is not an empty directory.\n"
          ]
        }
      ]
    },
    {
      "cell_type": "code",
      "source": [
        "%cd Deep-manga-text-segmentation"
      ],
      "metadata": {
        "colab": {
          "base_uri": "https://localhost:8080/"
        },
        "id": "rOz26jrAihrt",
        "outputId": "ae7eabae-86ba-4fd7-bebc-c5c248b415bd"
      },
      "execution_count": null,
      "outputs": [
        {
          "output_type": "stream",
          "name": "stdout",
          "text": [
            "/content/Deep-manga-text-segmentation\n"
          ]
        }
      ]
    },
    {
      "cell_type": "code",
      "source": [
        "!git pull"
      ],
      "metadata": {
        "colab": {
          "base_uri": "https://localhost:8080/"
        },
        "id": "IabzqoH4uQU3",
        "outputId": "c6f5182c-0b14-4b36-b7ae-757631425208"
      },
      "execution_count": null,
      "outputs": [
        {
          "output_type": "stream",
          "name": "stdout",
          "text": [
            "Updating 5593813..cf25f5e\n",
            "error: Your local changes to the following files would be overwritten by merge:\n",
            "\tconfig.py\n",
            "Please commit your changes or stash them before you merge.\n",
            "Aborting\n"
          ]
        }
      ]
    },
    {
      "cell_type": "markdown",
      "source": [
        "**Mounting gdrive**"
      ],
      "metadata": {
        "id": "MzdlJT9cm10N"
      }
    },
    {
      "cell_type": "code",
      "source": [
        "from google.colab import drive\n",
        "drive.mount('/content/gdrive/')"
      ],
      "metadata": {
        "colab": {
          "base_uri": "https://localhost:8080/"
        },
        "id": "1EinAV2-nKDV",
        "outputId": "c59e5eec-d24a-467f-d208-a7a0d45cbe71"
      },
      "execution_count": null,
      "outputs": [
        {
          "output_type": "stream",
          "name": "stdout",
          "text": [
            "Drive already mounted at /content/gdrive/; to attempt to forcibly remount, call drive.mount(\"/content/gdrive/\", force_remount=True).\n"
          ]
        }
      ]
    },
    {
      "cell_type": "markdown",
      "source": [
        "**Setup config**"
      ],
      "metadata": {
        "id": "THuYnk3Ymsa9"
      }
    },
    {
      "cell_type": "code",
      "source": [
        "images = \"../gdrive/MyDrive/final/full/images/\"\n",
        "masks = \"../gdrive/MyDrive/final/full/masks/\"\n",
        "bboxes = \"../gdrive/MyDrive/final/full/bboxes/\"\n",
        "test_images = \"../gdrive/MyDrive/final/full/test/images/\"\n",
        "test_masks = \"../gdrive/MyDrive/final/full/test/masks/\"\n",
        "test_boxes = \"../gdrive/MyDrive/final/full/test/boxes/\"\n",
        "models = \"../gdrive/MyDrive/models/\"\n",
        "model_name = \"simple_Unet34.pth\"\n",
        "BATCH_SIZE = 4\n",
        "INIT_LR = 10e-4\n",
        "EPOCHS = 13\n",
        "ENCODER_PRETRAINED = True\n",
        "DECODER_PRETRAINED = True\n",
        "IMG_HEIGHT = 1024\n",
        "IMG_WIDTH = 1024\n",
        "RANDOM_ROT = False\n",
        "WEIGHT_DECAY = 0\n"
      ],
      "metadata": {
        "id": "_J56wb7fmRyk"
      },
      "execution_count": null,
      "outputs": []
    },
    {
      "cell_type": "code",
      "source": [
        "with open(\"config.py\", \"w\") as f:\n",
        "  f.write(\"\\nmodel_name = '{}'\".format(model_name))\n",
        "  f.write(\"\\nimages = '{}'\".format(images))\n",
        "  f.write(\"\\nmasks = '{}'\".format(masks))\n",
        "  f.write(\"\\nbboxes = '{}'\".format(bboxes))\n",
        "  f.write(\"\\ntest_images = '{}'\".format(test_images))\n",
        "  f.write(\"\\ntest_masks = '{}'\".format(test_masks))\n",
        "  f.write(\"\\ntest_boxes = '{}'\".format(test_boxes))\n",
        "  f.write(\"\\nmodels = '{}'\".format(models))\n",
        "  f.write(\"\\nBATCH_SIZE = {}\".format(BATCH_SIZE))\n",
        "  f.write(\"\\nINIT_LR = {}\".format(INIT_LR))\n",
        "  f.write(\"\\nEPOCHS = {}\".format(EPOCHS))\n",
        "  f.write(\"\\nENCODER_PRETRAINED = {}\".format(ENCODER_PRETRAINED))\n",
        "  f.write(\"\\nDECODER_PRETRAINED = {}\".format(DECODER_PRETRAINED))\n",
        "  f.write(\"\\nIMG_HEIGHT = {}\".format(IMG_HEIGHT))\n",
        "  f.write(\"\\nIMG_WIDTH = {}\".format(IMG_WIDTH))\n",
        "  f.write(\"\\nWEIGHT_DECAY = {}\".format(WEIGHT_DECAY))"
      ],
      "metadata": {
        "id": "lBxPA7Q9jKbF"
      },
      "execution_count": null,
      "outputs": []
    },
    {
      "cell_type": "code",
      "source": [
        "! cat config.py"
      ],
      "metadata": {
        "colab": {
          "base_uri": "https://localhost:8080/"
        },
        "id": "fC7uSArmjrBo",
        "outputId": "db788b57-89e4-4d19-f967-65d8a81821d9"
      },
      "execution_count": null,
      "outputs": [
        {
          "output_type": "stream",
          "name": "stdout",
          "text": [
            "\n",
            "model_name = 'simple_Unet34.pth'\n",
            "images = '../gdrive/MyDrive/final/full/images/'\n",
            "masks = '../gdrive/MyDrive/final/full/masks/'\n",
            "bboxes = '../gdrive/MyDrive/final/full/bboxes/'\n",
            "test_images = '../gdrive/MyDrive/final/full/test/images/'\n",
            "test_masks = '../gdrive/MyDrive/final/full/test/masks/'\n",
            "test_boxes = '../gdrive/MyDrive/final/full/test/boxes/'\n",
            "models = '../gdrive/MyDrive/models/'\n",
            "BATCH_SIZE = 4\n",
            "INIT_LR = 0.001\n",
            "EPOCHS = 13\n",
            "ENCODER_PRETRAINED = True\n",
            "DECODER_PRETRAINED = True\n",
            "IMG_HEIGHT = 1024\n",
            "IMG_WIDTH = 1024\n",
            "WEIGHT_DECAY = 0"
          ]
        }
      ]
    },
    {
      "cell_type": "markdown",
      "source": [
        "Dependencies install"
      ],
      "metadata": {
        "id": "c_KWmenvrVxt"
      }
    },
    {
      "cell_type": "code",
      "source": [
        "!pip3 install -r requirements.txt"
      ],
      "metadata": {
        "colab": {
          "base_uri": "https://localhost:8080/"
        },
        "id": "YynjrEy2ratm",
        "outputId": "a6cc7b5c-8d05-4cea-c7ab-3cc657eb3a9f"
      },
      "execution_count": null,
      "outputs": [
        {
          "output_type": "stream",
          "name": "stdout",
          "text": [
            "Collecting segmentation-models-pytorch\n",
            "  Downloading segmentation_models_pytorch-0.2.1-py3-none-any.whl (88 kB)\n",
            "\u001b[?25l\r\u001b[K     |███▊                            | 10 kB 37.4 MB/s eta 0:00:01\r\u001b[K     |███████▍                        | 20 kB 19.4 MB/s eta 0:00:01\r\u001b[K     |███████████                     | 30 kB 15.5 MB/s eta 0:00:01\r\u001b[K     |██████████████▉                 | 40 kB 13.9 MB/s eta 0:00:01\r\u001b[K     |██████████████████▌             | 51 kB 6.1 MB/s eta 0:00:01\r\u001b[K     |██████████████████████▏         | 61 kB 7.2 MB/s eta 0:00:01\r\u001b[K     |██████████████████████████      | 71 kB 7.9 MB/s eta 0:00:01\r\u001b[K     |█████████████████████████████▋  | 81 kB 8.0 MB/s eta 0:00:01\r\u001b[K     |████████████████████████████████| 88 kB 4.9 MB/s \n",
            "\u001b[?25hCollecting pretrainedmodels==0.7.4\n",
            "  Downloading pretrainedmodels-0.7.4.tar.gz (58 kB)\n",
            "\u001b[K     |████████████████████████████████| 58 kB 7.8 MB/s \n",
            "\u001b[?25hCollecting timm==0.4.12\n",
            "  Downloading timm-0.4.12-py3-none-any.whl (376 kB)\n",
            "\u001b[K     |████████████████████████████████| 376 kB 61.7 MB/s \n",
            "\u001b[?25hRequirement already satisfied: torchvision>=0.5.0 in /usr/local/lib/python3.7/dist-packages (from segmentation-models-pytorch->-r requirements.txt (line 1)) (0.11.1+cu111)\n",
            "Collecting efficientnet-pytorch==0.6.3\n",
            "  Downloading efficientnet_pytorch-0.6.3.tar.gz (16 kB)\n",
            "Requirement already satisfied: torch in /usr/local/lib/python3.7/dist-packages (from efficientnet-pytorch==0.6.3->segmentation-models-pytorch->-r requirements.txt (line 1)) (1.10.0+cu111)\n",
            "Collecting munch\n",
            "  Downloading munch-2.5.0-py2.py3-none-any.whl (10 kB)\n",
            "Requirement already satisfied: tqdm in /usr/local/lib/python3.7/dist-packages (from pretrainedmodels==0.7.4->segmentation-models-pytorch->-r requirements.txt (line 1)) (4.63.0)\n",
            "Requirement already satisfied: typing-extensions in /usr/local/lib/python3.7/dist-packages (from torch->efficientnet-pytorch==0.6.3->segmentation-models-pytorch->-r requirements.txt (line 1)) (3.10.0.2)\n",
            "Requirement already satisfied: numpy in /usr/local/lib/python3.7/dist-packages (from torchvision>=0.5.0->segmentation-models-pytorch->-r requirements.txt (line 1)) (1.21.5)\n",
            "Requirement already satisfied: pillow!=8.3.0,>=5.3.0 in /usr/local/lib/python3.7/dist-packages (from torchvision>=0.5.0->segmentation-models-pytorch->-r requirements.txt (line 1)) (7.1.2)\n",
            "Requirement already satisfied: six in /usr/local/lib/python3.7/dist-packages (from munch->pretrainedmodels==0.7.4->segmentation-models-pytorch->-r requirements.txt (line 1)) (1.15.0)\n",
            "Building wheels for collected packages: efficientnet-pytorch, pretrainedmodels\n",
            "  Building wheel for efficientnet-pytorch (setup.py) ... \u001b[?25l\u001b[?25hdone\n",
            "  Created wheel for efficientnet-pytorch: filename=efficientnet_pytorch-0.6.3-py3-none-any.whl size=12421 sha256=07942eb2af8c54fdec39e0422452468d6cf63df62c8dacc869cab5e612fb426f\n",
            "  Stored in directory: /root/.cache/pip/wheels/90/6b/0c/f0ad36d00310e65390b0d4c9218ae6250ac579c92540c9097a\n",
            "  Building wheel for pretrainedmodels (setup.py) ... \u001b[?25l\u001b[?25hdone\n",
            "  Created wheel for pretrainedmodels: filename=pretrainedmodels-0.7.4-py3-none-any.whl size=60965 sha256=08f9e9957b79627a781d2bb5c03d017973d73b0eac8696cca5fd45e07b4b83b5\n",
            "  Stored in directory: /root/.cache/pip/wheels/ed/27/e8/9543d42de2740d3544db96aefef63bda3f2c1761b3334f4873\n",
            "Successfully built efficientnet-pytorch pretrainedmodels\n",
            "Installing collected packages: munch, timm, pretrainedmodels, efficientnet-pytorch, segmentation-models-pytorch\n",
            "Successfully installed efficientnet-pytorch-0.6.3 munch-2.5.0 pretrainedmodels-0.7.4 segmentation-models-pytorch-0.2.1 timm-0.4.12\n"
          ]
        }
      ]
    },
    {
      "cell_type": "markdown",
      "source": [
        "**Training**"
      ],
      "metadata": {
        "id": "3DH3G6OCrHMA"
      }
    },
    {
      "cell_type": "markdown",
      "source": [
        "batch size 4 and lr 10e-4 image size 1024 - done"
      ],
      "metadata": {
        "id": "R6h-cu2a0KtH"
      }
    },
    {
      "cell_type": "code",
      "source": [
        "%run \"train_base.py\""
      ],
      "metadata": {
        "colab": {
          "base_uri": "https://localhost:8080/",
          "height": 625
        },
        "id": "rITmZaLrmDNK",
        "outputId": "2bca1b10-469a-4cfb-9809-301b6b0e463b"
      },
      "execution_count": null,
      "outputs": [
        {
          "output_type": "stream",
          "name": "stdout",
          "text": [
            "Model saved!\n",
            "Epoch: 1 - Loss: 0.059952 - Validation: 0.024847\n",
            "Model saved!\n",
            "Epoch: 2 - Loss: 0.019424 - Validation: 0.018683\n",
            "Model saved!\n",
            "Epoch: 3 - Loss: 0.014383 - Validation: 0.015304\n",
            "Epoch: 4 - Loss: 0.012563 - Validation: 0.017592\n",
            "Model saved!\n",
            "Epoch: 5 - Loss: 0.011861 - Validation: 0.013800\n",
            "Model saved!\n",
            "Epoch: 6 - Loss: 0.011151 - Validation: 0.013137\n",
            "Model saved!\n",
            "Epoch: 7 - Loss: 0.010837 - Validation: 0.012934\n",
            "Model saved!\n",
            "Epoch: 8 - Loss: 0.010035 - Validation: 0.012557\n",
            "Epoch: 9 - Loss: 0.009981 - Validation: 0.014002\n",
            "Model saved!\n",
            "Epoch: 10 - Loss: 0.009637 - Validation: 0.012256\n"
          ]
        },
        {
          "output_type": "display_data",
          "data": {
            "text/plain": [
              "<Figure size 432x288 with 1 Axes>"
            ],
            "image/png": "[encoded data removed]"
          },
          "metadata": {
            "needs_background": "light"
          }
        },
        {
          "output_type": "display_data",
          "data": {
            "text/plain": [
              "<Figure size 432x288 with 0 Axes>"
            ]
          },
          "metadata": {}
        }
      ]
    },
    {
      "cell_type": "markdown",
      "source": [
        "batch size 4 and lr 10e-5 im size 1024 - done"
      ],
      "metadata": {
        "id": "CKWuSxUy0Qj6"
      }
    },
    {
      "cell_type": "code",
      "source": [
        "%run \"train_base.py\""
      ],
      "metadata": {
        "colab": {
          "base_uri": "https://localhost:8080/",
          "height": 660
        },
        "id": "0cW-2K8nrNQE",
        "outputId": "7874de5c-19ea-4614-bf0d-6186d6015dcd"
      },
      "execution_count": null,
      "outputs": [
        {
          "output_type": "stream",
          "name": "stdout",
          "text": [
            "Model saved!\n",
            "Epoch: 1 - Loss: 0.294041 - Validation: 0.236919\n",
            "Model saved!\n",
            "Epoch: 2 - Loss: 0.185653 - Validation: 0.172453\n",
            "Model saved!\n",
            "Epoch: 3 - Loss: 0.147695 - Validation: 0.146559\n",
            "Model saved!\n",
            "Epoch: 4 - Loss: 0.118828 - Validation: 0.116147\n",
            "Model saved!\n",
            "Epoch: 5 - Loss: 0.095997 - Validation: 0.089434\n",
            "Model saved!\n",
            "Epoch: 6 - Loss: 0.079063 - Validation: 0.085200\n",
            "Model saved!\n",
            "Epoch: 7 - Loss: 0.066374 - Validation: 0.063838\n",
            "Model saved!\n",
            "Epoch: 8 - Loss: 0.056266 - Validation: 0.055901\n",
            "Model saved!\n",
            "Epoch: 9 - Loss: 0.048349 - Validation: 0.048644\n",
            "Model saved!\n",
            "Epoch: 10 - Loss: 0.041978 - Validation: 0.042622\n"
          ]
        },
        {
          "output_type": "display_data",
          "data": {
            "text/plain": [
              "<Figure size 432x288 with 1 Axes>"
            ],
            "image/png": "[encoded data removed]"
          },
          "metadata": {
            "needs_background": "light"
          }
        },
        {
          "output_type": "display_data",
          "data": {
            "text/plain": [
              "<Figure size 432x288 with 0 Axes>"
            ]
          },
          "metadata": {}
        }
      ]
    },
    {
      "cell_type": "markdown",
      "source": [
        "batch size 4 and lr 10e-3 im size 1024 - done"
      ],
      "metadata": {
        "id": "ckbGD9ZSxnDx"
      }
    },
    {
      "cell_type": "code",
      "source": [
        "%run \"train_base.py\""
      ],
      "metadata": {
        "colab": {
          "base_uri": "https://localhost:8080/",
          "height": 729,
          "referenced_widgets": [
            "94f882031ce448bcb0f79c1dac6de3b5",
            "366a9d2704e74222a926930e2b109d59",
            "b1122cf1210a476da2c7b3042bf8bd33",
            "78f69d4f7867400889e21e21d27fde2f",
            "5d91dbec8cdc4ea3ae253171694612f5",
            "66d7539ee11244b3a904dd9cd23544a1",
            "1e4c13a5378c42b2a16b51da667a9489",
            "eb5ea09b2973492fb442932a7dbc244e",
            "4465826813ee40edb2e714e80c4fab78",
            "57433c9db7e6466d945ab789b0233104",
            "b12a09ffa06842bba675b0c28cbfeca1"
          ]
        },
        "id": "3THywYB6xi9i",
        "outputId": "2b48b207-7bbc-4ba4-a547-d00e088ffc04"
      },
      "execution_count": null,
      "outputs": [
        {
          "output_type": "stream",
          "name": "stderr",
          "text": [
            "Downloading: \"https://download.pytorch.org/models/resnet34-333f7ec4.pth\" to /root/.cache/torch/hub/checkpoints/resnet34-333f7ec4.pth\n"
          ]
        },
        {
          "output_type": "display_data",
          "data": {
            "text/plain": [
              "  0%|          | 0.00/83.3M [00:00<?, ?B/s]"
            ],
            "application/vnd.jupyter.widget-view+json": {
              "version_major": 2,
              "version_minor": 0,
              "model_id": "94f882031ce448bcb0f79c1dac6de3b5"
            }
          },
          "metadata": {}
        },
        {
          "output_type": "stream",
          "name": "stdout",
          "text": [
            "Model saved!\n",
            "Epoch: 1 - Loss: 0.033875 - Validation: 0.015160\n",
            "Model saved!\n",
            "Epoch: 2 - Loss: 0.016296 - Validation: 0.015154\n",
            "Model saved!\n",
            "Epoch: 3 - Loss: 0.016276 - Validation: 0.015148\n",
            "Model saved!\n",
            "Epoch: 4 - Loss: 0.016317 - Validation: 0.015145\n",
            "Model saved!\n",
            "Epoch: 5 - Loss: 0.016297 - Validation: 0.015142\n",
            "Model saved!\n",
            "Epoch: 6 - Loss: 0.016303 - Validation: 0.015140\n",
            "Model saved!\n",
            "Epoch: 7 - Loss: 0.016398 - Validation: 0.015139\n",
            "Model saved!\n",
            "Epoch: 8 - Loss: 0.016286 - Validation: 0.015138\n",
            "Model saved!\n",
            "Epoch: 9 - Loss: 0.016285 - Validation: 0.015137\n",
            "Model saved!\n",
            "Epoch: 10 - Loss: 0.016284 - Validation: 0.015136\n"
          ]
        },
        {
          "output_type": "display_data",
          "data": {
            "text/plain": [
              "<Figure size 432x288 with 1 Axes>"
            ],
            "image/png": "[encoded data removed]"
          },
          "metadata": {
            "needs_background": "light"
          }
        },
        {
          "output_type": "display_data",
          "data": {
            "text/plain": [
              "<Figure size 432x288 with 0 Axes>"
            ]
          },
          "metadata": {}
        }
      ]
    },
    {
      "cell_type": "markdown",
      "source": [
        "batch size 10 and lr 10e-4 and img size 1024"
      ],
      "metadata": {
        "id": "qO9QogaN2xK6"
      }
    },
    {
      "cell_type": "code",
      "source": [
        "%run \"train_base.py\""
      ],
      "metadata": {
        "colab": {
          "base_uri": "https://localhost:8080/",
          "height": 608
        },
        "id": "6HETbZnG222E",
        "outputId": "e0e882b1-2987-4141-9c14-e59610bea0c7"
      },
      "execution_count": null,
      "outputs": [
        {
          "output_type": "stream",
          "name": "stdout",
          "text": [
            "Model saved!\n",
            "Epoch: 1 - Loss: 0.137258 - Validation: 0.041761\n",
            "Model saved!\n",
            "Epoch: 2 - Loss: 0.028532 - Validation: 0.021156\n",
            "Model saved!\n",
            "Epoch: 3 - Loss: 0.018504 - Validation: 0.016315\n",
            "Model saved!\n",
            "Epoch: 4 - Loss: 0.015025 - Validation: 0.016250\n",
            "Model saved!\n",
            "Epoch: 5 - Loss: 0.013016 - Validation: 0.012740\n",
            "Epoch: 6 - Loss: 0.011962 - Validation: 0.013708\n",
            "Epoch: 7 - Loss: 0.011539 - Validation: 0.014389\n",
            "Model saved!\n",
            "Epoch: 8 - Loss: 0.010769 - Validation: 0.011457\n",
            "Epoch: 9 - Loss: 0.010192 - Validation: 0.013992\n",
            "Model saved!\n",
            "Epoch: 10 - Loss: 0.010037 - Validation: 0.010671\n"
          ]
        },
        {
          "output_type": "display_data",
          "data": {
            "text/plain": [
              "<Figure size 432x288 with 1 Axes>"
            ],
            "image/png": "[encoded data removed]"
          },
          "metadata": {
            "needs_background": "light"
          }
        },
        {
          "output_type": "display_data",
          "data": {
            "text/plain": [
              "<Figure size 432x288 with 0 Axes>"
            ]
          },
          "metadata": {}
        }
      ]
    },
    {
      "cell_type": "markdown",
      "source": [
        "batch size 4 and lr 10e-4 and img size 512 - done"
      ],
      "metadata": {
        "id": "64c8TzomxKJT"
      }
    },
    {
      "cell_type": "code",
      "source": [
        "%run \"train_base.py\""
      ],
      "metadata": {
        "colab": {
          "base_uri": "https://localhost:8080/",
          "height": 642
        },
        "id": "MTvDsrH5xI2h",
        "outputId": "2f00c73a-426b-446d-abe7-0c69f42e5b6e"
      },
      "execution_count": null,
      "outputs": [
        {
          "output_type": "stream",
          "name": "stdout",
          "text": [
            "Model saved!\n",
            "Epoch: 1 - Loss: 0.136626 - Validation: 0.041315\n",
            "Model saved!\n",
            "Epoch: 2 - Loss: 0.029740 - Validation: 0.022941\n",
            "Model saved!\n",
            "Epoch: 3 - Loss: 0.020881 - Validation: 0.019503\n",
            "Model saved!\n",
            "Epoch: 4 - Loss: 0.018796 - Validation: 0.017630\n",
            "Model saved!\n",
            "Epoch: 5 - Loss: 0.017539 - Validation: 0.017581\n",
            "Model saved!\n",
            "Epoch: 6 - Loss: 0.016502 - Validation: 0.016775\n",
            "Model saved!\n",
            "Epoch: 7 - Loss: 0.015878 - Validation: 0.016149\n",
            "Epoch: 8 - Loss: 0.015394 - Validation: 0.018718\n",
            "Model saved!\n",
            "Epoch: 9 - Loss: 0.015165 - Validation: 0.015296\n",
            "Model saved!\n",
            "Epoch: 10 - Loss: 0.013897 - Validation: 0.014847\n"
          ]
        },
        {
          "output_type": "display_data",
          "data": {
            "text/plain": [
              "<Figure size 432x288 with 1 Axes>"
            ],
            "image/png": "[encoded data removed]"
          },
          "metadata": {
            "needs_background": "light"
          }
        },
        {
          "output_type": "display_data",
          "data": {
            "text/plain": [
              "<Figure size 432x288 with 0 Axes>"
            ]
          },
          "metadata": {}
        }
      ]
    },
    {
      "cell_type": "markdown",
      "source": [
        "The best training config is : batch size of 10 or 4, learning rate of 10e-4 and image size of 1024. "
      ],
      "metadata": {
        "id": "wsRskSvUzESO"
      }
    },
    {
      "cell_type": "markdown",
      "source": [
        "Now let's train for a huge number of epoch to catch the best model without overfitting"
      ],
      "metadata": {
        "id": "oohFae5VzZCB"
      }
    },
    {
      "cell_type": "code",
      "source": [
        "%run \"train_base.py\""
      ],
      "metadata": {
        "colab": {
          "base_uri": "https://localhost:8080/",
          "height": 1000
        },
        "id": "brFMsV7NzVP9",
        "outputId": "2ec4b689-6c36-4bd3-e4ea-f5cff0a54f09"
      },
      "execution_count": null,
      "outputs": [
        {
          "output_type": "stream",
          "name": "stdout",
          "text": [
            "Model saved!\n",
            "Epoch: 1 - Loss: 0.065900 - Validation: 0.024832\n",
            "Model saved!\n",
            "Epoch: 2 - Loss: 0.018443 - Validation: 0.015765\n",
            "Model saved!\n",
            "Epoch: 3 - Loss: 0.013996 - Validation: 0.014143\n",
            "Model saved!\n",
            "Epoch: 4 - Loss: 0.012587 - Validation: 0.012951\n",
            "Epoch: 5 - Loss: 0.011521 - Validation: 0.013546\n",
            "Model saved!\n",
            "Epoch: 6 - Loss: 0.010706 - Validation: 0.011997\n",
            "Model saved!\n",
            "Epoch: 7 - Loss: 0.010315 - Validation: 0.011781\n",
            "Epoch: 8 - Loss: 0.010514 - Validation: 0.011817\n",
            "Model saved!\n",
            "Epoch: 9 - Loss: 0.010126 - Validation: 0.011308\n",
            "Model saved!\n",
            "Epoch: 10 - Loss: 0.009807 - Validation: 0.010196\n",
            "Epoch: 11 - Loss: 0.009276 - Validation: 0.010761\n",
            "Epoch: 12 - Loss: 0.009272 - Validation: 0.011104\n",
            "Epoch: 13 - Loss: 0.009315 - Validation: 0.011241\n",
            "Epoch: 14 - Loss: 0.009277 - Validation: 0.010653\n",
            "Epoch: 15 - Loss: 0.008693 - Validation: 0.010326\n",
            "Model saved!\n",
            "Epoch: 16 - Loss: 0.008320 - Validation: 0.010118\n",
            "Model saved!\n",
            "Epoch: 17 - Loss: 0.008186 - Validation: 0.009906\n",
            "Model saved!\n",
            "Epoch: 18 - Loss: 0.008054 - Validation: 0.009901\n",
            "Epoch: 19 - Loss: 0.008135 - Validation: 0.010043\n",
            "Epoch: 20 - Loss: 0.008256 - Validation: 0.010390\n",
            "Epoch: 21 - Loss: 0.007655 - Validation: 0.010118\n",
            "Model saved!\n",
            "Epoch: 22 - Loss: 0.007252 - Validation: 0.009322\n",
            "Epoch: 23 - Loss: 0.007087 - Validation: 0.010176\n",
            "Epoch: 24 - Loss: 0.006965 - Validation: 0.009518\n",
            "Model saved!\n",
            "Epoch: 25 - Loss: 0.006713 - Validation: 0.009097\n",
            "Epoch: 26 - Loss: 0.006817 - Validation: 0.010635\n",
            "Epoch: 27 - Loss: 0.007031 - Validation: 0.009101\n",
            "Epoch: 28 - Loss: 0.006479 - Validation: 0.009784\n",
            "Epoch: 29 - Loss: 0.006740 - Validation: 0.009946\n",
            "Epoch: 30 - Loss: 0.006612 - Validation: 0.009461\n"
          ]
        },
        {
          "output_type": "display_data",
          "data": {
            "text/plain": [
              "<Figure size 432x288 with 1 Axes>"
            ],
            "image/png": "[encoded data removed]"
          },
          "metadata": {
            "needs_background": "light"
          }
        },
        {
          "output_type": "display_data",
          "data": {
            "text/plain": [
              "<Figure size 432x288 with 0 Axes>"
            ]
          },
          "metadata": {}
        }
      ]
    },
    {
      "cell_type": "markdown",
      "source": [
        "Adding weight decay 0.1 to previous config"
      ],
      "metadata": {
        "id": "EsW4s840LxBK"
      }
    },
    {
      "cell_type": "code",
      "source": [
        "%run \"train_base.py\""
      ],
      "metadata": {
        "colab": {
          "base_uri": "https://localhost:8080/",
          "height": 1000
        },
        "id": "IvdlmReJLuth",
        "outputId": "12900f57-c7ac-4113-da12-c045568868aa"
      },
      "execution_count": null,
      "outputs": [
        {
          "output_type": "stream",
          "name": "stdout",
          "text": [
            "Model saved!\n",
            "Epoch: 1 - Loss: 0.069044 - Validation: 0.028518\n",
            "Model saved!\n",
            "Epoch: 2 - Loss: 0.018558 - Validation: 0.023509\n",
            "Model saved!\n",
            "Epoch: 3 - Loss: 0.013724 - Validation: 0.019882\n",
            "Model saved!\n",
            "Epoch: 4 - Loss: 0.011994 - Validation: 0.016492\n",
            "Epoch: 5 - Loss: 0.011243 - Validation: 0.017534\n",
            "Epoch: 6 - Loss: 0.010121 - Validation: 0.016662\n",
            "Model saved!\n",
            "Epoch: 7 - Loss: 0.009579 - Validation: 0.014877\n",
            "Model saved!\n",
            "Epoch: 8 - Loss: 0.009305 - Validation: 0.014504\n",
            "Epoch: 9 - Loss: 0.009075 - Validation: 0.014877\n",
            "Model saved!\n",
            "Epoch: 10 - Loss: 0.008854 - Validation: 0.014175\n",
            "Model saved!\n",
            "Epoch: 11 - Loss: 0.008871 - Validation: 0.013908\n",
            "Epoch: 12 - Loss: 0.009036 - Validation: 0.015417\n",
            "Model saved!\n",
            "Epoch: 13 - Loss: 0.008308 - Validation: 0.013801\n",
            "Model saved!\n",
            "Epoch: 14 - Loss: 0.008019 - Validation: 0.013790\n",
            "Epoch: 15 - Loss: 0.007696 - Validation: 0.014536\n",
            "Epoch: 16 - Loss: 0.007383 - Validation: 0.014297\n",
            "Model saved!\n",
            "Epoch: 17 - Loss: 0.007567 - Validation: 0.013745\n",
            "Model saved!\n",
            "Epoch: 18 - Loss: 0.007309 - Validation: 0.013709\n",
            "Model saved!\n",
            "Epoch: 19 - Loss: 0.006835 - Validation: 0.013374\n",
            "Epoch: 20 - Loss: 0.006705 - Validation: 0.013412\n",
            "Epoch: 21 - Loss: 0.006398 - Validation: 0.014040\n",
            "Epoch: 22 - Loss: 0.006529 - Validation: 0.013968\n",
            "Model saved!\n",
            "Epoch: 23 - Loss: 0.006166 - Validation: 0.013099\n",
            "Epoch: 24 - Loss: 0.006118 - Validation: 0.013991\n",
            "Model saved!\n",
            "Epoch: 25 - Loss: 0.006118 - Validation: 0.013046\n",
            "Epoch: 26 - Loss: 0.005712 - Validation: 0.013190\n",
            "Model saved!\n",
            "Epoch: 27 - Loss: 0.006232 - Validation: 0.012780\n",
            "Epoch: 28 - Loss: 0.005672 - Validation: 0.013061\n",
            "Epoch: 29 - Loss: 0.005397 - Validation: 0.013120\n",
            "Model saved!\n",
            "Epoch: 30 - Loss: 0.005242 - Validation: 0.012474\n"
          ]
        },
        {
          "output_type": "display_data",
          "data": {
            "text/plain": [
              "<Figure size 432x288 with 1 Axes>"
            ],
            "image/png": "[encoded data removed]"
          },
          "metadata": {
            "needs_background": "light"
          }
        },
        {
          "output_type": "display_data",
          "data": {
            "text/plain": [
              "<Figure size 432x288 with 0 Axes>"
            ]
          },
          "metadata": {}
        }
      ]
    },
    {
      "cell_type": "markdown",
      "source": [
        "Final"
      ],
      "metadata": {
        "id": "CN3mwhL0Q-pu"
      }
    },
    {
      "cell_type": "code",
      "source": [
        "%run \"train_base.py\""
      ],
      "metadata": {
        "colab": {
          "base_uri": "https://localhost:8080/",
          "height": 694
        },
        "id": "QnfpiNJ6RAAk",
        "outputId": "f0cf16f3-5797-46ab-aa9e-a44c02b68dbf"
      },
      "execution_count": null,
      "outputs": [
        {
          "output_type": "stream",
          "name": "stdout",
          "text": [
            "Model saved!\n",
            "Epoch: 1 - Loss: 0.112915 - Validation: 0.043163\n",
            "Model saved!\n",
            "Epoch: 2 - Loss: 0.027141 - Validation: 0.020771\n",
            "Model saved!\n",
            "Epoch: 3 - Loss: 0.017385 - Validation: 0.016206\n",
            "Model saved!\n",
            "Epoch: 4 - Loss: 0.014240 - Validation: 0.015591\n",
            "Model saved!\n",
            "Epoch: 5 - Loss: 0.012531 - Validation: 0.013265\n",
            "Epoch: 6 - Loss: 0.011641 - Validation: 0.018558\n",
            "Epoch: 7 - Loss: 0.010960 - Validation: 0.019177\n",
            "Model saved!\n",
            "Epoch: 8 - Loss: 0.010398 - Validation: 0.012030\n",
            "Model saved!\n",
            "Epoch: 9 - Loss: 0.010101 - Validation: 0.011543\n",
            "Epoch: 10 - Loss: 0.009769 - Validation: 0.012133\n",
            "Model saved!\n",
            "Epoch: 11 - Loss: 0.009349 - Validation: 0.011152\n",
            "Epoch: 12 - Loss: 0.009166 - Validation: 0.012069\n",
            "Model saved!\n",
            "Epoch: 13 - Loss: 0.008761 - Validation: 0.010976\n"
          ]
        },
        {
          "output_type": "display_data",
          "data": {
            "text/plain": [
              "<Figure size 432x288 with 1 Axes>"
            ],
            "image/png": "[encoded data removed]"
          },
          "metadata": {
            "needs_background": "light"
          }
        },
        {
          "output_type": "display_data",
          "data": {
            "text/plain": [
              "<Figure size 432x288 with 0 Axes>"
            ]
          },
          "metadata": {}
        }
      ]
    },
    {
      "cell_type": "code",
      "source": [
        ""
      ],
      "metadata": {
        "id": "zBUUIYroTq80"
      },
      "execution_count": null,
      "outputs": []
    }
  ]
}